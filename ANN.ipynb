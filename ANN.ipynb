{
  "nbformat": 4,
  "nbformat_minor": 0,
  "metadata": {
    "colab": {
      "name": "ANN.ipynb",
      "version": "0.3.2",
      "provenance": [],
      "collapsed_sections": [],
      "include_colab_link": true
    },
    "kernelspec": {
      "name": "python3",
      "display_name": "Python 3"
    },
    "accelerator": "GPU"
  },
  "cells": [
    {
      "cell_type": "markdown",
      "metadata": {
        "id": "view-in-github",
        "colab_type": "text"
      },
      "source": [
        "<a href=\"https://colab.research.google.com/github/manisggn/Udemy_Deep_learning/blob/master/ANN.ipynb\" target=\"_parent\"><img src=\"https://colab.research.google.com/assets/colab-badge.svg\" alt=\"Open In Colab\"/></a>"
      ]
    },
    {
      "cell_type": "code",
      "metadata": {
        "id": "V0XfNoSZtTwc",
        "colab_type": "code",
        "colab": {}
      },
      "source": [
        "#ANN\n",
        "#Install Tensorflow\n",
        "!pip install tensorflow\n",
        "!pip install keras\n",
        "!pip install matplotlib\n",
        "\n",
        "#Importing libraries\n",
        "import numpy as np\n",
        "import pandas as pd\n",
        "import matplotlib.pyplot as plt\n",
        "import io\n",
        "\n",
        "\n"
      ],
      "execution_count": 0,
      "outputs": []
    },
    {
      "cell_type": "code",
      "metadata": {
        "id": "ZMXncUu0v4f0",
        "colab_type": "code",
        "colab": {}
      },
      "source": [
        "#Importing dataset\n",
        "from google.colab import files\n",
        "uploaded = files.upload()\n",
        "df = pd.read_csv(io.StringIO(uploaded['Churn_Modelling.csv'].decode('utf-8')))\n",
        "\n",
        "\n",
        "\n",
        "\n"
      ],
      "execution_count": 0,
      "outputs": []
    },
    {
      "cell_type": "code",
      "metadata": {
        "id": "6VQib9MXXajr",
        "colab_type": "code",
        "colab": {}
      },
      "source": [
        "#Defining X and Y\n",
        "x=df.iloc[:,3:13].values\n",
        "y=df.iloc[:,13].values\n",
        "\n",
        "print(x)\n",
        "type(x)"
      ],
      "execution_count": 0,
      "outputs": []
    },
    {
      "cell_type": "code",
      "metadata": {
        "id": "LOxAYNBB_U4o",
        "colab_type": "code",
        "colab": {}
      },
      "source": [
        "#enclosing categorical data\n",
        "from sklearn.preprocessing import OneHotEncoder, LabelEncoder\n",
        "labelencoder1=LabelEncoder()\n",
        "x[:,1]=labelencoder1.fit_transform(x[:,1])\n",
        "labelencoder2=LabelEncoder()\n",
        "x[:,2]=labelencoder2.fit_transform(x[:,2])\n",
        "\n",
        "onehotencoder=OneHotEncoder(categorical_features=[1])\n",
        "x=onehotencoder.fit_transform(x).toarray()\n",
        "type(x)\n",
        "x=x[:,1:]\n",
        "x.shape"
      ],
      "execution_count": 0,
      "outputs": []
    },
    {
      "cell_type": "code",
      "metadata": {
        "id": "i-2UeDK51oLu",
        "colab_type": "code",
        "colab": {}
      },
      "source": [
        "#splitting data into training and test\n",
        "from sklearn.model_selection import train_test_split\n",
        "x_train, x_test, y_train, y_test = train_test_split(x, y, test_size=0.2, random_state=0)"
      ],
      "execution_count": 0,
      "outputs": []
    },
    {
      "cell_type": "code",
      "metadata": {
        "id": "WP2kQ7dIIuzq",
        "colab_type": "code",
        "colab": {}
      },
      "source": [
        "#feature scaling\n",
        "from sklearn.preprocessing import StandardScaler\n",
        "sc=StandardScaler()\n",
        "x_train=sc.fit_transform(x_train)\n",
        "x_test=sc.fit_transform(x_test)\n",
        "x_test.shape\n",
        "type(x_test)\n"
      ],
      "execution_count": 0,
      "outputs": []
    },
    {
      "cell_type": "code",
      "metadata": {
        "id": "LgT2SJaRK2-x",
        "colab_type": "code",
        "colab": {}
      },
      "source": [
        "#Making ANN\n",
        "import keras\n",
        "from keras.models import Sequential\n",
        "from keras.layers import Dense\n",
        "\n",
        "#Initializing ANN\n",
        "model=Sequential()\n",
        "\n",
        "#Adding input layer and first hidden layer\n",
        "model.add(Dense(units=6, activation='relu', input_dim=11, kernel_initializer='glorot_uniform'))\n",
        "\n",
        "#Adding 2nd hidden layer\n",
        "model.add(Dense(units=6, activation='relu',kernel_initializer='glorot_uniform'))\n",
        "\n",
        "#Adding final layer/output layer\n",
        "model.add(Dense(units=1, kernel_initializer = 'uniform', activation = 'sigmoid'))\n",
        "\n",
        "#Compiling ANN\n",
        "model.compile(optimizer = 'adam', loss = 'binary_crossentropy', metrics = ['accuracy'])\n",
        "\n",
        "#Fitting ANN to training set\n",
        "model.fit(x_train, y_train, batch_size=10, epochs=100)\n",
        "\n"
      ],
      "execution_count": 0,
      "outputs": []
    },
    {
      "cell_type": "code",
      "metadata": {
        "id": "Nb2FxZ5aT7it",
        "colab_type": "code",
        "colab": {}
      },
      "source": [
        "#Predicting test set results\n",
        "y_pred= model.predict(x_test)\n",
        "y_pred= (y_pred>0.5)\n"
      ],
      "execution_count": 0,
      "outputs": []
    },
    {
      "cell_type": "code",
      "metadata": {
        "id": "o95IQVnyVo09",
        "colab_type": "code",
        "colab": {}
      },
      "source": [
        "#Making confusion matrix\n",
        "from sklearn.metrics import confusion_matrix\n",
        "cm=confusion_matrix(y_test, y_pred)\n",
        "cm"
      ],
      "execution_count": 0,
      "outputs": []
    },
    {
      "cell_type": "code",
      "metadata": {
        "id": "h8pQJ_N7bwYf",
        "colab_type": "code",
        "colab": {}
      },
      "source": [
        "\"\"\"Predict if the customer with the following informations will leave the bank:\n",
        "Geography: France\n",
        "Credit Score: 600\n",
        "Gender: Male\n",
        "Age: 40\n",
        "Tenure: 3\n",
        "Balance: 60000\n",
        "Number of Products: 2\n",
        "Has Credit Card: Yes\n",
        "Is Active Member: Yes\n",
        "Estimated Salary: 50000\"\"\"\n",
        "\n",
        "new_pred= model.predict(sc.transform(np.array([[0.0, 0, 600, 1, 40, 3, 60000, 2, 1, 1, 50000]])))\n",
        "new_pred=(new_pred>0.5)\n",
        "new_pred"
      ],
      "execution_count": 0,
      "outputs": []
    },
    {
      "cell_type": "code",
      "metadata": {
        "id": "ncHCsLgDg3UZ",
        "colab_type": "code",
        "colab": {}
      },
      "source": [
        "#Evaluation of ANN\n",
        "from keras.wrappers.scikit_learn import KerasClassifier\n",
        "from sklearn.model_selection import cross_val_score\n",
        "from keras.models import Sequential\n",
        "from keras.layers import Dense\n",
        "\n",
        "def for_validation():\n",
        "  model= Sequential()\n",
        "  model.add(Dense(units = 6, kernel_initializer = 'uniform', activation = 'relu', input_dim = 11))\n",
        "  model.add(Dense(units = 6, kernel_initializer = 'uniform', activation = 'relu'))\n",
        "  model.add(Dense(units = 1, kernel_initializer = 'uniform', activation = 'sigmoid'))\n",
        "  model.compile(optimizer = 'adam', loss = 'binary_crossentropy', metrics = ['accuracy'])\n",
        "  return model\n",
        "\n",
        "model = KerasClassifier(build_fn = for_validation, batch_size = 10, epochs = 100)\n",
        "accuracies = cross_val_score(estimator = model, X = x_train, y = y_train, cv = 10)\n",
        "mean = accuracies.mean()\n",
        "variance = accuracies.std()\n"
      ],
      "execution_count": 0,
      "outputs": []
    },
    {
      "cell_type": "code",
      "metadata": {
        "id": "HHygTxVaoHvc",
        "colab_type": "code",
        "colab": {}
      },
      "source": [
        "#Tuning ANN\n",
        "from keras.wrappers.scikit_learn import KerasClassifier\n",
        "from sklearn.model_selection import GridSearchCV\n",
        "from keras.models import Sequential\n",
        "from keras.layers import Dense\n",
        "\n",
        "def for_validation(optimizer):\n",
        "  model = Sequential()\n",
        "  model.add(Dense(units = 6, kernel_initializer = 'uniform', activation = 'relu', input_dim = 11))\n",
        "  model.add(Dense(units = 6, kernel_initializer = 'uniform', activation = 'relu'))\n",
        "  model.add(Dense(units = 1, kernel_initializer = 'uniform', activation = 'sigmoid'))\n",
        "  model.compile(optimizer = optimizer, loss = 'binary_crossentropy', metrics = ['accuracy'])\n",
        "  return model\n",
        "\n",
        "model=KerasClassifier(build_fn= for_validation)\n",
        "parameters= {'batch_size': [25, 32],\n",
        "              'epochs': [100, 500],\n",
        "              'optimizer': ['adam', 'rmsprop']}\n",
        "\n",
        "grid_search= GridSearchCV(estimator = model,\n",
        "                           param_grid = parameters,\n",
        "                           scoring = 'accuracy',\n",
        "                           cv = 10)\n",
        "grid_search = grid_search.fit(x_train, y_train)\n",
        "best_parameters = grid_search.best_params_\n",
        "best_accuracy = grid_search.best_score_\n",
        "  \n"
      ],
      "execution_count": 0,
      "outputs": []
    },
    {
      "cell_type": "markdown",
      "metadata": {
        "id": "ESWBUNLltc3k",
        "colab_type": "text"
      },
      "source": [
        ""
      ]
    }
  ]
}